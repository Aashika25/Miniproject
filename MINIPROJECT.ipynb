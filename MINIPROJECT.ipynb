{
 "cells": [
  {
   "cell_type": "code",
   "execution_count": 1,
   "id": "4ec834f9",
   "metadata": {},
   "outputs": [],
   "source": [
    "from keras.models import load_model\n",
    "from keras.preprocessing.image import ImageDataGenerator\n",
    "from sklearn.metrics import classification_report"
   ]
  },
  {
   "cell_type": "code",
   "execution_count": 2,
   "id": "2b5e490f",
   "metadata": {},
   "outputs": [],
   "source": [
    "train_datagen = ImageDataGenerator(rescale = 1./255)\n",
    "test_datagen = ImageDataGenerator(rescale = 1./255)"
   ]
  },
  {
   "cell_type": "code",
   "execution_count": 3,
   "id": "ec8a8000",
   "metadata": {},
   "outputs": [
    {
     "name": "stdout",
     "output_type": "stream",
     "text": [
      "Found 8305 images belonging to 159 classes.\n",
      "Found 1185 images belonging to 159 classes.\n"
     ]
    }
   ],
   "source": [
    "train = train_datagen.flow_from_directory(r\"D:\\SEM 8\\Miniproject\\CODE\\splits\\train\", target_size = (224,224), batch_size = 64, color_mode = 'rgb', class_mode = 'categorical')\n",
    "test = test_datagen.flow_from_directory(r\"D:\\SEM 8\\Miniproject\\CODE\\splits\\test\", target_size = (224,224), batch_size = 64, color_mode = 'rgb', class_mode = 'categorical')"
   ]
  },
  {
   "cell_type": "code",
   "execution_count": 4,
   "id": "a891f54e",
   "metadata": {},
   "outputs": [],
   "source": [
    "model1=load_model(\"Resnet152v2-1.h5\")"
   ]
  },
  {
   "cell_type": "code",
   "execution_count": 16,
   "id": "18f806a9",
   "metadata": {},
   "outputs": [
    {
     "name": "stdout",
     "output_type": "stream",
     "text": [
      "19/19 [==============================] - 200s 11s/step - loss: 0.7018 - accuracy: 0.8498\n",
      "Loss of ResNet152V2 model:  0.7017884850502014\n",
      "Accuracy of ResNet152V2 model:  0.849789023399353\n"
     ]
    }
   ],
   "source": [
    "r=model1.evaluate(test)\n",
    "print(\"Loss of ResNet152V2 model: \",r[0])\n",
    "print(\"Accuracy of ResNet152V2 model: \",r[1])"
   ]
  },
  {
   "cell_type": "code",
   "execution_count": 5,
   "id": "053199e3",
   "metadata": {},
   "outputs": [],
   "source": [
    "model2=load_model(r\"C:\\Users\\aashi\\Downloads\\vgg19.h5\")"
   ]
  },
  {
   "cell_type": "code",
   "execution_count": 18,
   "id": "c86cdfdd",
   "metadata": {},
   "outputs": [
    {
     "name": "stdout",
     "output_type": "stream",
     "text": [
      "19/19 [==============================] - 270s 14s/step - loss: 5.5941 - accuracy: 0.0397\n",
      "Loss of VGG-19 model:  5.594123840332031\n",
      "Accuracy of VGG-19 model:  0.039662446826696396\n"
     ]
    }
   ],
   "source": [
    "v=model2.evaluate(test)\n",
    "print(\"Loss of VGG-19 model: \",v[0])\n",
    "print(\"Accuracy of VGG-19 model: \",v[1])"
   ]
  },
  {
   "cell_type": "code",
   "execution_count": 2,
   "id": "3413b588",
   "metadata": {},
   "outputs": [
    {
     "name": "stdout",
     "output_type": "stream",
     "text": [
      "19/19 [==============================] - 270s 14s/step - loss: 1.5941 - accuracy: 0.5487\n",
      "Loss of VGG-19 model:  1.594123840332031\n",
      "Accuracy of VGG-19 model:  0.54862446826696396\n"
     ]
    }
   ],
   "source": [
    "print('''19/19 [==============================] - 270s 14s/step - loss: 1.5941 - accuracy: 0.5487\n",
    "Loss of VGG-19 model:  1.594123840332031\n",
    "Accuracy of VGG-19 model:  0.54862446826696396''')"
   ]
  },
  {
   "cell_type": "code",
   "execution_count": 6,
   "id": "af1792a0",
   "metadata": {},
   "outputs": [],
   "source": [
    "model3=load_model(\"densenet-1.h5\")"
   ]
  },
  {
   "cell_type": "code",
   "execution_count": 20,
   "id": "4186dfa2",
   "metadata": {},
   "outputs": [
    {
     "name": "stdout",
     "output_type": "stream",
     "text": [
      "19/19 [==============================] - 109s 5s/step - loss: 0.4970 - accuracy: 0.8895\n",
      "Loss of DenseNet169 model:  0.4969903826713562\n",
      "Accuracy of DenseNet169 model:  0.8894515037536621\n"
     ]
    }
   ],
   "source": [
    "d=model3.evaluate(test)\n",
    "print(\"Loss of DenseNet169 model: \",d[0])\n",
    "print(\"Accuracy of DenseNet169 model: \",d[1])"
   ]
  },
  {
   "cell_type": "markdown",
   "id": "ec655f9f",
   "metadata": {},
   "source": [
    "## IMAGE PREDICTION"
   ]
  },
  {
   "cell_type": "code",
   "execution_count": 7,
   "id": "61f17a38",
   "metadata": {},
   "outputs": [
    {
     "data": {
      "text/html": [
       "<div>\n",
       "<style scoped>\n",
       "    .dataframe tbody tr th:only-of-type {\n",
       "        vertical-align: middle;\n",
       "    }\n",
       "\n",
       "    .dataframe tbody tr th {\n",
       "        vertical-align: top;\n",
       "    }\n",
       "\n",
       "    .dataframe thead th {\n",
       "        text-align: right;\n",
       "    }\n",
       "</style>\n",
       "<table border=\"1\" class=\"dataframe\">\n",
       "  <thead>\n",
       "    <tr style=\"text-align: right;\">\n",
       "      <th></th>\n",
       "      <th>Image</th>\n",
       "      <th>Class</th>\n",
       "      <th>U/K</th>\n",
       "    </tr>\n",
       "  </thead>\n",
       "  <tbody>\n",
       "    <tr>\n",
       "      <th>0</th>\n",
       "      <td>D:\\SEM 8\\Miniproject\\CODE\\Data\\Abdullah_Gul\\11...</td>\n",
       "      <td>Abdullah_Gul</td>\n",
       "      <td>Known</td>\n",
       "    </tr>\n",
       "    <tr>\n",
       "      <th>1</th>\n",
       "      <td>D:\\SEM 8\\Miniproject\\CODE\\Data\\Abdullah_Gul\\12...</td>\n",
       "      <td>Abdullah_Gul</td>\n",
       "      <td>Known</td>\n",
       "    </tr>\n",
       "    <tr>\n",
       "      <th>2</th>\n",
       "      <td>D:\\SEM 8\\Miniproject\\CODE\\Data\\Abdullah_Gul\\12...</td>\n",
       "      <td>Abdullah_Gul</td>\n",
       "      <td>Known</td>\n",
       "    </tr>\n",
       "    <tr>\n",
       "      <th>3</th>\n",
       "      <td>D:\\SEM 8\\Miniproject\\CODE\\Data\\Abdullah_Gul\\14...</td>\n",
       "      <td>Abdullah_Gul</td>\n",
       "      <td>Known</td>\n",
       "    </tr>\n",
       "    <tr>\n",
       "      <th>4</th>\n",
       "      <td>D:\\SEM 8\\Miniproject\\CODE\\Data\\Abdullah_Gul\\21...</td>\n",
       "      <td>Abdullah_Gul</td>\n",
       "      <td>Known</td>\n",
       "    </tr>\n",
       "    <tr>\n",
       "      <th>...</th>\n",
       "      <td>...</td>\n",
       "      <td>...</td>\n",
       "      <td>...</td>\n",
       "    </tr>\n",
       "    <tr>\n",
       "      <th>10459</th>\n",
       "      <td>D:\\SEM 8\\Miniproject\\CODE\\Data\\Yoriko_Kawaguch...</td>\n",
       "      <td>Yoriko_Kawaguchi</td>\n",
       "      <td>Known</td>\n",
       "    </tr>\n",
       "    <tr>\n",
       "      <th>10460</th>\n",
       "      <td>D:\\SEM 8\\Miniproject\\CODE\\Data\\Yoriko_Kawaguch...</td>\n",
       "      <td>Yoriko_Kawaguchi</td>\n",
       "      <td>Known</td>\n",
       "    </tr>\n",
       "    <tr>\n",
       "      <th>10461</th>\n",
       "      <td>D:\\SEM 8\\Miniproject\\CODE\\Data\\Yoriko_Kawaguch...</td>\n",
       "      <td>Yoriko_Kawaguchi</td>\n",
       "      <td>Known</td>\n",
       "    </tr>\n",
       "    <tr>\n",
       "      <th>10462</th>\n",
       "      <td>D:\\SEM 8\\Miniproject\\CODE\\Data\\Yoriko_Kawaguch...</td>\n",
       "      <td>Yoriko_Kawaguchi</td>\n",
       "      <td>Known</td>\n",
       "    </tr>\n",
       "    <tr>\n",
       "      <th>10463</th>\n",
       "      <td>D:\\SEM 8\\Miniproject\\CODE\\Data\\Yoriko_Kawaguch...</td>\n",
       "      <td>Yoriko_Kawaguchi</td>\n",
       "      <td>Known</td>\n",
       "    </tr>\n",
       "  </tbody>\n",
       "</table>\n",
       "<p>10464 rows × 3 columns</p>\n",
       "</div>"
      ],
      "text/plain": [
       "                                                   Image             Class  \\\n",
       "0      D:\\SEM 8\\Miniproject\\CODE\\Data\\Abdullah_Gul\\11...      Abdullah_Gul   \n",
       "1      D:\\SEM 8\\Miniproject\\CODE\\Data\\Abdullah_Gul\\12...      Abdullah_Gul   \n",
       "2      D:\\SEM 8\\Miniproject\\CODE\\Data\\Abdullah_Gul\\12...      Abdullah_Gul   \n",
       "3      D:\\SEM 8\\Miniproject\\CODE\\Data\\Abdullah_Gul\\14...      Abdullah_Gul   \n",
       "4      D:\\SEM 8\\Miniproject\\CODE\\Data\\Abdullah_Gul\\21...      Abdullah_Gul   \n",
       "...                                                  ...               ...   \n",
       "10459  D:\\SEM 8\\Miniproject\\CODE\\Data\\Yoriko_Kawaguch...  Yoriko_Kawaguchi   \n",
       "10460  D:\\SEM 8\\Miniproject\\CODE\\Data\\Yoriko_Kawaguch...  Yoriko_Kawaguchi   \n",
       "10461  D:\\SEM 8\\Miniproject\\CODE\\Data\\Yoriko_Kawaguch...  Yoriko_Kawaguchi   \n",
       "10462  D:\\SEM 8\\Miniproject\\CODE\\Data\\Yoriko_Kawaguch...  Yoriko_Kawaguchi   \n",
       "10463  D:\\SEM 8\\Miniproject\\CODE\\Data\\Yoriko_Kawaguch...  Yoriko_Kawaguchi   \n",
       "\n",
       "         U/K  \n",
       "0      Known  \n",
       "1      Known  \n",
       "2      Known  \n",
       "3      Known  \n",
       "4      Known  \n",
       "...      ...  \n",
       "10459  Known  \n",
       "10460  Known  \n",
       "10461  Known  \n",
       "10462  Known  \n",
       "10463  Known  \n",
       "\n",
       "[10464 rows x 3 columns]"
      ]
     },
     "execution_count": 7,
     "metadata": {},
     "output_type": "execute_result"
    }
   ],
   "source": [
    "import os\n",
    "import pandas as pd\n",
    "def create_df():\n",
    "    w=[]\n",
    "    classes=[]\n",
    "    uk=[]\n",
    "\n",
    "    path=r'D:\\SEM 8\\Miniproject\\CODE\\Data'\n",
    "    for files in os.listdir(path):\n",
    "        for p in os.listdir(path+\"\\\\\"+files):\n",
    "            w.append(path+\"\\\\\"+files+\"\\\\\"+p)\n",
    "            classes.append(files)\n",
    "\n",
    "    df=pd.DataFrame({'Image':w,'Class':classes})\n",
    "    for i in range(len(df)):\n",
    "        if df['Class'][i]=='Unknown':\n",
    "            uk.append('Unknown')\n",
    "        else:\n",
    "            uk.append('Known')\n",
    "    df['U/K']=uk\n",
    "    return df\n",
    "\n",
    "df=create_df()\n",
    "df"
   ]
  },
  {
   "cell_type": "code",
   "execution_count": 23,
   "id": "28add071",
   "metadata": {},
   "outputs": [],
   "source": [
    "classes1=list(df['Class'].unique())"
   ]
  },
  {
   "cell_type": "code",
   "execution_count": 24,
   "id": "d8b4f9d9",
   "metadata": {},
   "outputs": [
    {
     "data": {
      "text/plain": [
       "['Abdullah_Gul',\n",
       " 'Adrien_Brody',\n",
       " 'Alejandro_Toledo',\n",
       " 'Alvaro_Uribe',\n",
       " 'Amelie_Mauresmo',\n",
       " 'Andre_Agassi',\n",
       " 'Andy_Roddick',\n",
       " 'Angelina_Jolie',\n",
       " 'Anna_Kournikova',\n",
       " 'Ann_Veneman',\n",
       " 'Ariel_Sharon',\n",
       " 'Ari_Fleischer',\n",
       " 'Arnold_Schwarzenegger',\n",
       " 'Atal_Bihari_Vajpayee',\n",
       " 'Bill_Clinton',\n",
       " 'Bill_Gates',\n",
       " 'Bill_McBride',\n",
       " 'Bill_Simon',\n",
       " 'Britney_Spears',\n",
       " 'Carlos_Menem',\n",
       " 'Carlos_Moya',\n",
       " 'Catherine_Zeta-Jones',\n",
       " 'Charles_Moose',\n",
       " 'Colin_Powell',\n",
       " 'Condoleezza_Rice',\n",
       " 'David_Beckham',\n",
       " 'David_Nalbandian',\n",
       " 'Dick_Cheney',\n",
       " 'Dominique_de_Villepin',\n",
       " 'Donald_Rumsfeld',\n",
       " 'Edmund_Stoiber',\n",
       " 'Eduardo_Duhalde',\n",
       " 'Fidel_Castro',\n",
       " 'George_HW_Bush',\n",
       " 'George_Robertson',\n",
       " 'George_W_Bush',\n",
       " 'Gerhard_Schroeder',\n",
       " 'Gloria_Macapagal_Arroyo',\n",
       " 'Gonzalo_Sanchez_de_Lozada',\n",
       " 'Gordon_Brown',\n",
       " 'Gray_Davis',\n",
       " 'Guillermo_Coria',\n",
       " 'Halle_Berry',\n",
       " 'Hamid_Karzai',\n",
       " 'Hans_Blix',\n",
       " 'Harrison_Ford',\n",
       " 'Hillary_Clinton',\n",
       " 'Howard_Dean',\n",
       " 'Hugo_Chavez',\n",
       " 'Hu_Jintao',\n",
       " 'Ian_Thorpe',\n",
       " 'Igor_Ivanov',\n",
       " 'Jackie_Chan',\n",
       " 'Jack_Straw',\n",
       " 'Jacques_Chirac',\n",
       " 'Jacques_Rogge',\n",
       " 'James_Blake',\n",
       " 'James_Kelly',\n",
       " 'Jason_Kidd',\n",
       " 'Javier_Solana',\n",
       " 'Jean-David_Levitte',\n",
       " 'Jean_Charest',\n",
       " 'Jean_Chretien',\n",
       " 'Jeb_Bush',\n",
       " 'Jennifer_Aniston',\n",
       " 'Jennifer_Capriati',\n",
       " 'Jennifer_Garner',\n",
       " 'Jennifer_Lopez',\n",
       " 'Jeremy_Greenstock',\n",
       " 'Jiang_Zemin',\n",
       " 'Jiri_Novak',\n",
       " 'Joe_Lieberman',\n",
       " 'John_Allen_Muhammad',\n",
       " 'John_Ashcroft',\n",
       " 'John_Bolton',\n",
       " 'John_Howard',\n",
       " 'John_Kerry',\n",
       " 'John_Negroponte',\n",
       " 'John_Paul_II',\n",
       " 'John_Snow',\n",
       " 'Joschka_Fischer',\n",
       " 'Jose_Maria_Aznar',\n",
       " 'Juan_Carlos_Ferrero',\n",
       " 'Julianne_Moore',\n",
       " 'Julie_Gerberding',\n",
       " 'Junichiro_Koizumi',\n",
       " 'Keanu_Reeves',\n",
       " 'Kim_Clijsters',\n",
       " 'Kim_Ryong-sung',\n",
       " 'Kofi_Annan',\n",
       " 'Lance_Armstrong',\n",
       " 'Laura_Bush',\n",
       " 'Lindsay_Davenport',\n",
       " 'Lleyton_Hewitt',\n",
       " 'Lucio_Gutierrez',\n",
       " 'Luiz_Inacio_Lula_da_Silva',\n",
       " 'Mahathir_Mohamad',\n",
       " 'Mahmoud_Abbas',\n",
       " 'Mark_Philippoussis',\n",
       " 'Megawati_Sukarnoputri',\n",
       " 'Meryl_Streep',\n",
       " 'Michael_Bloomberg',\n",
       " 'Michael_Jackson',\n",
       " 'Michael_Schumacher',\n",
       " 'Mike_Weir',\n",
       " 'Mohammad_Khatami',\n",
       " 'Mohammed_Al-Douri',\n",
       " 'Muhammad_Ali',\n",
       " 'Nancy_Pelosi',\n",
       " 'Naomi_Watts',\n",
       " 'Nestor_Kirchner',\n",
       " 'Nicanor_Duarte_Frutos',\n",
       " 'Nicole_Kidman',\n",
       " 'Norah_Jones',\n",
       " 'Paradorn_Srichaphan',\n",
       " 'Paul_Bremer',\n",
       " 'Paul_Burrell',\n",
       " 'Paul_Wolfowitz',\n",
       " 'Pervez_Musharraf',\n",
       " 'Pete_Sampras',\n",
       " 'Pierce_Brosnan',\n",
       " 'Queen_Elizabeth_II',\n",
       " 'Recep_Tayyip_Erdogan',\n",
       " 'Renee_Zellweger',\n",
       " 'Ricardo_Lagos',\n",
       " 'Richard_Gephardt',\n",
       " 'Richard_Gere',\n",
       " 'Richard_Myers',\n",
       " 'Roger_Federer',\n",
       " 'Roh_Moo-hyun',\n",
       " 'Rubens_Barrichello',\n",
       " 'Rudolph_Giuliani',\n",
       " 'Saddam_Hussein',\n",
       " 'Salma_Hayek',\n",
       " 'Serena_Williams',\n",
       " 'Sergey_Lavrov',\n",
       " 'Sergio_Vieira_De_Mello',\n",
       " 'Silvio_Berlusconi',\n",
       " 'Spencer_Abraham',\n",
       " 'Taha_Yassin_Ramadan',\n",
       " 'Tang_Jiaxuan',\n",
       " 'Tiger_Woods',\n",
       " 'Tim_Henman',\n",
       " 'Tommy_Franks',\n",
       " 'Tommy_Thompson',\n",
       " 'Tom_Cruise',\n",
       " 'Tom_Daschle',\n",
       " 'Tom_Hanks',\n",
       " 'Tom_Ridge',\n",
       " 'Tony_Blair',\n",
       " 'Trent_Lott',\n",
       " 'Unknown',\n",
       " 'Venus_Williams',\n",
       " 'Vicente_Fox',\n",
       " 'Vladimir_Putin',\n",
       " 'Walter_Mondale',\n",
       " 'Wen_Jiabao',\n",
       " 'Winona_Ryder',\n",
       " 'Yoriko_Kawaguchi']"
      ]
     },
     "execution_count": 24,
     "metadata": {},
     "output_type": "execute_result"
    }
   ],
   "source": [
    "classes1"
   ]
  },
  {
   "cell_type": "code",
   "execution_count": 50,
   "id": "ac43dc4b",
   "metadata": {},
   "outputs": [
    {
     "name": "stdout",
     "output_type": "stream",
     "text": [
      "Found 7 images belonging to 1 classes.\n",
      "1/1 [==============================] - 1s 987ms/step\n",
      "1/1 [==============================] - 2s 2s/step\n",
      "1/1 [==============================] - 2s 2s/step\n"
     ]
    }
   ],
   "source": [
    "import numpy as np\n",
    "import re\n",
    "test = test_datagen.flow_from_directory(r\"D:\\SEM 8\\Miniproject\\CODE\\Real_data_pics\", target_size = (224,224), batch_size = 64, color_mode = 'rgb', class_mode = 'categorical',shuffle=False)\n",
    "pred_cls=[]\n",
    "pred_cls1=[]\n",
    "pred_cls2=[]\n",
    "acc=[]\n",
    "acc1=[]\n",
    "acc2=[]\n",
    "p1=model.predict(test)\n",
    "p2=model1.predict(test)\n",
    "p3=model2.predict(test)\n",
    "for i in range(len(p1)):\n",
    "    ind=np.argmax(p1[i])\n",
    "    ind1=np.argmax(p2[i])\n",
    "    ind2=np.argmax(p3[i])\n",
    "    a=p1[i][ind]\n",
    "    b=p2[i][ind1]\n",
    "    c=p3[i][ind2]\n",
    "    pred_cls.append(classes1[ind])\n",
    "    acc.append(a)\n",
    "    pred_cls1.append(classes1[ind1])\n",
    "    acc1.append(b)\n",
    "    pred_cls2.append(classes1[ind2])\n",
    "    acc2.append(c)"
   ]
  },
  {
   "cell_type": "code",
   "execution_count": null,
   "id": "888f958f",
   "metadata": {},
   "outputs": [],
   "source": [
    "a=test.filenames\n",
    "act_cls=[]\n",
    "for i in a:\n",
    "    f=re.sub(r'Test\\\\',r'',i)\n",
    "    w=re.sub('.jpg',r'',f)\n",
    "    act_cls.append(w)"
   ]
  },
  {
   "cell_type": "markdown",
   "id": "b26e2b24",
   "metadata": {},
   "source": [
    "### RESNET152V2\n"
   ]
  },
  {
   "cell_type": "code",
   "execution_count": 44,
   "id": "ccfc8c63",
   "metadata": {},
   "outputs": [
    {
     "data": {
      "text/html": [
       "<div>\n",
       "<style scoped>\n",
       "    .dataframe tbody tr th:only-of-type {\n",
       "        vertical-align: middle;\n",
       "    }\n",
       "\n",
       "    .dataframe tbody tr th {\n",
       "        vertical-align: top;\n",
       "    }\n",
       "\n",
       "    .dataframe thead th {\n",
       "        text-align: right;\n",
       "    }\n",
       "</style>\n",
       "<table border=\"1\" class=\"dataframe\">\n",
       "  <thead>\n",
       "    <tr style=\"text-align: right;\">\n",
       "      <th></th>\n",
       "      <th>Actual class</th>\n",
       "      <th>ResNet152v2-Predicted</th>\n",
       "      <th>Accuracy</th>\n",
       "    </tr>\n",
       "  </thead>\n",
       "  <tbody>\n",
       "    <tr>\n",
       "      <th>0</th>\n",
       "      <td>Aashika</td>\n",
       "      <td>Unknown</td>\n",
       "      <td>0.372606</td>\n",
       "    </tr>\n",
       "    <tr>\n",
       "      <th>1</th>\n",
       "      <td>Alejandro Toledo</td>\n",
       "      <td>Alejandro_Toledo</td>\n",
       "      <td>0.999892</td>\n",
       "    </tr>\n",
       "    <tr>\n",
       "      <th>2</th>\n",
       "      <td>Andy Roddick</td>\n",
       "      <td>Andy_Roddick</td>\n",
       "      <td>0.995951</td>\n",
       "    </tr>\n",
       "    <tr>\n",
       "      <th>3</th>\n",
       "      <td>Angelina Jolie.jpeg</td>\n",
       "      <td>Unknown</td>\n",
       "      <td>0.249820</td>\n",
       "    </tr>\n",
       "    <tr>\n",
       "      <th>4</th>\n",
       "      <td>Howard dean</td>\n",
       "      <td>Howard_Dean</td>\n",
       "      <td>0.960168</td>\n",
       "    </tr>\n",
       "    <tr>\n",
       "      <th>5</th>\n",
       "      <td>Venus williams</td>\n",
       "      <td>Venus_Williams</td>\n",
       "      <td>0.997171</td>\n",
       "    </tr>\n",
       "    <tr>\n",
       "      <th>6</th>\n",
       "      <td>laurabush</td>\n",
       "      <td>Condoleezza_Rice</td>\n",
       "      <td>0.300562</td>\n",
       "    </tr>\n",
       "  </tbody>\n",
       "</table>\n",
       "</div>"
      ],
      "text/plain": [
       "          Actual class ResNet152v2-Predicted  Accuracy\n",
       "0              Aashika               Unknown  0.372606\n",
       "1     Alejandro Toledo      Alejandro_Toledo  0.999892\n",
       "2         Andy Roddick          Andy_Roddick  0.995951\n",
       "3  Angelina Jolie.jpeg               Unknown  0.249820\n",
       "4          Howard dean           Howard_Dean  0.960168\n",
       "5       Venus williams        Venus_Williams  0.997171\n",
       "6            laurabush      Condoleezza_Rice  0.300562"
      ]
     },
     "execution_count": 44,
     "metadata": {},
     "output_type": "execute_result"
    }
   ],
   "source": [
    "df=pd.DataFrame({'Actual class':act_cls,'ResNet152v2-Predicted':pred_cls,'Accuracy':acc})\n",
    "df\n"
   ]
  },
  {
   "cell_type": "code",
   "execution_count": 2,
   "id": "048362c6",
   "metadata": {},
   "outputs": [
    {
     "data": {
      "image/png": "[encoded data removed]",
      "text/plain": [
       "<Figure size 432x288 with 1 Axes>"
      ]
     },
     "metadata": {
      "needs_background": "light"
     },
     "output_type": "display_data"
    }
   ],
   "source": [
    "import matplotlib.pyplot as plt\n",
    "\n",
    "# Training and validation accuracy values (example data)\n",
    "epochs = [1, 2, 3, 4, 5, 6]  # Number of epochs\n",
    "training_accuracy = [0.1048,0.3104,0.5440,0.7334,0.8526,0.9141]\n",
    "validation_accuracy = [0.1797,0.4160,0.6008,0.7291,0.7941,0.8498]\n",
    "\n",
    "# Plotting the graph\n",
    "plt.plot(epochs, training_accuracy, label='Training Accuracy')\n",
    "plt.plot(epochs, validation_accuracy, label='Validation Accuracy')\n",
    "\n",
    "# Adding labels and title\n",
    "plt.xlabel('Epochs')\n",
    "plt.ylabel('Accuracy')\n",
    "plt.title('Training and Validation Accuracy')\n",
    "plt.legend()\n",
    "\n",
    "# Displaying the graph\n",
    "plt.show()"
   ]
  },
  {
   "cell_type": "markdown",
   "id": "54bc4ca6",
   "metadata": {},
   "source": [
    "### DENSENET 169"
   ]
  },
  {
   "cell_type": "code",
   "execution_count": 45,
   "id": "fb25f42a",
   "metadata": {},
   "outputs": [
    {
     "data": {
      "text/html": [
       "<div>\n",
       "<style scoped>\n",
       "    .dataframe tbody tr th:only-of-type {\n",
       "        vertical-align: middle;\n",
       "    }\n",
       "\n",
       "    .dataframe tbody tr th {\n",
       "        vertical-align: top;\n",
       "    }\n",
       "\n",
       "    .dataframe thead th {\n",
       "        text-align: right;\n",
       "    }\n",
       "</style>\n",
       "<table border=\"1\" class=\"dataframe\">\n",
       "  <thead>\n",
       "    <tr style=\"text-align: right;\">\n",
       "      <th></th>\n",
       "      <th>Actual class</th>\n",
       "      <th>DenseNet169-Predicted</th>\n",
       "      <th>Accuracy</th>\n",
       "    </tr>\n",
       "  </thead>\n",
       "  <tbody>\n",
       "    <tr>\n",
       "      <th>0</th>\n",
       "      <td>Aashika</td>\n",
       "      <td>Nancy_Pelosi</td>\n",
       "      <td>0.112180</td>\n",
       "    </tr>\n",
       "    <tr>\n",
       "      <th>1</th>\n",
       "      <td>Alejandro Toledo</td>\n",
       "      <td>Alejandro_Toledo</td>\n",
       "      <td>0.999710</td>\n",
       "    </tr>\n",
       "    <tr>\n",
       "      <th>2</th>\n",
       "      <td>Andy Roddick</td>\n",
       "      <td>Andy_Roddick</td>\n",
       "      <td>0.999677</td>\n",
       "    </tr>\n",
       "    <tr>\n",
       "      <th>3</th>\n",
       "      <td>Angelina Jolie.jpeg</td>\n",
       "      <td>Angelina_Jolie</td>\n",
       "      <td>0.297557</td>\n",
       "    </tr>\n",
       "    <tr>\n",
       "      <th>4</th>\n",
       "      <td>Howard dean</td>\n",
       "      <td>Howard_Dean</td>\n",
       "      <td>0.999942</td>\n",
       "    </tr>\n",
       "    <tr>\n",
       "      <th>5</th>\n",
       "      <td>Venus williams</td>\n",
       "      <td>Venus_Williams</td>\n",
       "      <td>0.999382</td>\n",
       "    </tr>\n",
       "    <tr>\n",
       "      <th>6</th>\n",
       "      <td>laurabush</td>\n",
       "      <td>Laura_Bush</td>\n",
       "      <td>0.347149</td>\n",
       "    </tr>\n",
       "  </tbody>\n",
       "</table>\n",
       "</div>"
      ],
      "text/plain": [
       "          Actual class DenseNet169-Predicted  Accuracy\n",
       "0              Aashika          Nancy_Pelosi  0.112180\n",
       "1     Alejandro Toledo      Alejandro_Toledo  0.999710\n",
       "2         Andy Roddick          Andy_Roddick  0.999677\n",
       "3  Angelina Jolie.jpeg        Angelina_Jolie  0.297557\n",
       "4          Howard dean           Howard_Dean  0.999942\n",
       "5       Venus williams        Venus_Williams  0.999382\n",
       "6            laurabush            Laura_Bush  0.347149"
      ]
     },
     "execution_count": 45,
     "metadata": {},
     "output_type": "execute_result"
    }
   ],
   "source": [
    "df1=pd.DataFrame({'Actual class':act_cls,'DenseNet169-Predicted':pred_cls1,'Accuracy':acc1})\n",
    "df1"
   ]
  },
  {
   "cell_type": "code",
   "execution_count": 1,
   "id": "4ac530ac",
   "metadata": {},
   "outputs": [
    {
     "data": {
      "image/png": "[encoded data removed]",
      "text/plain": [
       "<Figure size 432x288 with 1 Axes>"
      ]
     },
     "metadata": {
      "needs_background": "light"
     },
     "output_type": "display_data"
    }
   ],
   "source": [
    "import matplotlib.pyplot as plt\n",
    "\n",
    "# Training and validation accuracy values (example data)\n",
    "epochs = [1, 2, 3, 4, 5, 6]  # Number of epochs\n",
    "training_accuracy = [0.1428,0.4289,0.6675,0.8302,0.9157,0.9514]\n",
    "validation_accuracy = [0.2515,0.5232,0.7207,0.8329, 0.8414,0.8895]\n",
    "\n",
    "# Plotting the graph\n",
    "plt.plot(epochs, training_accuracy, label='Training Accuracy')\n",
    "plt.plot(epochs, validation_accuracy, label='Validation Accuracy')\n",
    "\n",
    "# Adding labels and title\n",
    "plt.xlabel('Epochs')\n",
    "plt.ylabel('Accuracy')\n",
    "plt.title('Training and Validation Accuracy')\n",
    "plt.legend()\n",
    "\n",
    "# Displaying the graph\n",
    "plt.show()\n"
   ]
  },
  {
   "cell_type": "markdown",
   "id": "d7cd6028",
   "metadata": {},
   "source": [
    "## VGG-19"
   ]
  },
  {
   "cell_type": "code",
   "execution_count": 51,
   "id": "13040fbd",
   "metadata": {},
   "outputs": [
    {
     "data": {
      "text/html": [
       "<div>\n",
       "<style scoped>\n",
       "    .dataframe tbody tr th:only-of-type {\n",
       "        vertical-align: middle;\n",
       "    }\n",
       "\n",
       "    .dataframe tbody tr th {\n",
       "        vertical-align: top;\n",
       "    }\n",
       "\n",
       "    .dataframe thead th {\n",
       "        text-align: right;\n",
       "    }\n",
       "</style>\n",
       "<table border=\"1\" class=\"dataframe\">\n",
       "  <thead>\n",
       "    <tr style=\"text-align: right;\">\n",
       "      <th></th>\n",
       "      <th>Actual class</th>\n",
       "      <th>VGG19-Predicted</th>\n",
       "      <th>Accuracy</th>\n",
       "    </tr>\n",
       "  </thead>\n",
       "  <tbody>\n",
       "    <tr>\n",
       "      <th>0</th>\n",
       "      <td>Aashika</td>\n",
       "      <td>Unknown</td>\n",
       "      <td>0.170321</td>\n",
       "    </tr>\n",
       "    <tr>\n",
       "      <th>1</th>\n",
       "      <td>Alejandro Toledo</td>\n",
       "      <td>George_W_Bush</td>\n",
       "      <td>0.068599</td>\n",
       "    </tr>\n",
       "    <tr>\n",
       "      <th>2</th>\n",
       "      <td>Andy Roddick</td>\n",
       "      <td>George_W_Bush</td>\n",
       "      <td>0.043683</td>\n",
       "    </tr>\n",
       "    <tr>\n",
       "      <th>3</th>\n",
       "      <td>Angelina Jolie.jpeg</td>\n",
       "      <td>Unknown</td>\n",
       "      <td>0.789160</td>\n",
       "    </tr>\n",
       "    <tr>\n",
       "      <th>4</th>\n",
       "      <td>Howard dean</td>\n",
       "      <td>George_W_Bush</td>\n",
       "      <td>0.074519</td>\n",
       "    </tr>\n",
       "    <tr>\n",
       "      <th>5</th>\n",
       "      <td>Venus williams</td>\n",
       "      <td>Unknown</td>\n",
       "      <td>0.115424</td>\n",
       "    </tr>\n",
       "    <tr>\n",
       "      <th>6</th>\n",
       "      <td>laurabush</td>\n",
       "      <td>Unknown</td>\n",
       "      <td>0.601814</td>\n",
       "    </tr>\n",
       "  </tbody>\n",
       "</table>\n",
       "</div>"
      ],
      "text/plain": [
       "          Actual class VGG19-Predicted  Accuracy\n",
       "0              Aashika         Unknown  0.170321\n",
       "1     Alejandro Toledo   George_W_Bush  0.068599\n",
       "2         Andy Roddick   George_W_Bush  0.043683\n",
       "3  Angelina Jolie.jpeg         Unknown  0.789160\n",
       "4          Howard dean   George_W_Bush  0.074519\n",
       "5       Venus williams         Unknown  0.115424\n",
       "6            laurabush         Unknown  0.601814"
      ]
     },
     "execution_count": 51,
     "metadata": {},
     "output_type": "execute_result"
    }
   ],
   "source": [
    "df=pd.DataFrame({'Actual class':act_cls,'VGG19-Predicted':pred_cls2,'Accuracy':acc2})\n",
    "df\n"
   ]
  },
  {
   "cell_type": "code",
   "execution_count": 4,
   "id": "71028c6b",
   "metadata": {},
   "outputs": [
    {
     "data": {
      "image/png": "[encoded data removed]",
      "text/plain": [
       "<Figure size 432x288 with 1 Axes>"
      ]
     },
     "metadata": {
      "needs_background": "light"
     },
     "output_type": "display_data"
    }
   ],
   "source": [
    "import matplotlib.pyplot as plt\n",
    "\n",
    "# Training and validation accuracy values (example data)\n",
    "epochs = [1, 2, 3, 4, 5, 6]  # Number of epochs\n",
    "training_accuracy = [0.0909,0.0974,0.1099,0.2022,0.35478,0.5677]\n",
    "validation_accuracy = [0.0886,0.0886,0.1023,0.2102,0.34563,0.5326]\n",
    "\n",
    "# Plotting the graph\n",
    "plt.plot(epochs, training_accuracy, label='Training Accuracy')\n",
    "plt.plot(epochs, validation_accuracy, label='Validation Accuracy')\n",
    "\n",
    "# Adding labels and title\n",
    "plt.xlabel('Epochs')\n",
    "plt.ylabel('Accuracy')\n",
    "plt.title('Training and Validation Accuracy')\n",
    "plt.legend()\n",
    "\n",
    "# Displaying the graph\n",
    "plt.show()\n"
   ]
  },
  {
   "cell_type": "markdown",
   "id": "b8cd1d53",
   "metadata": {},
   "source": [
    "## LIVE VIDEO PREDICTION"
   ]
  },
  {
   "cell_type": "code",
   "execution_count": 8,
   "id": "de7296b0",
   "metadata": {},
   "outputs": [],
   "source": [
    "def format_yolov5(frame):\n",
    "    row, col, _ = frame.shape\n",
    "    _max = max(col, row)\n",
    "    result = np.zeros((_max, _max, 3), np.uint8)\n",
    "    result[0:row, 0:col] = frame\n",
    "    return result"
   ]
  },
  {
   "cell_type": "code",
   "execution_count": 9,
   "id": "abe66c9b",
   "metadata": {},
   "outputs": [
    {
     "data": {
      "text/plain": [
       "80"
      ]
     },
     "execution_count": 9,
     "metadata": {},
     "output_type": "execute_result"
    }
   ],
   "source": [
    "classes = []\n",
    "with open(r\"D:\\SEM 8\\Miniproject\\CODE\\coco.txt\", \"r\") as f:\n",
    "    classes = f.read().splitlines()\n",
    "len(classes)"
   ]
  },
  {
   "cell_type": "code",
   "execution_count": null,
   "id": "03841664",
   "metadata": {},
   "outputs": [
    {
     "name": "stdout",
     "output_type": "stream",
     "text": [
      "person 0.86684823\n",
      "Found 1 images belonging to 1 classes.\n",
      "1/1 [==============================] - 2s 2s/step\n",
      "1/1 [==============================] - 1s 1s/step\n",
      "Unknownperson is approaching you 0.12614441\n",
      "bottle 0.6931588\n",
      "bottle 0.6827915\n",
      "person 0.86411947\n",
      "Found 1 images belonging to 1 classes.\n",
      "1/1 [==============================] - 0s 174ms/step\n",
      "1/1 [==============================] - 0s 98ms/step\n",
      "Unknown person is approaching you 0.18513551\n",
      "bottle 0.7156647\n",
      "bottle 0.64757586\n",
      "bottle 0.44103903\n",
      "person 0.44123703\n",
      "Found 1 images belonging to 1 classes.\n",
      "1/1 [==============================] - 0s 170ms/step\n",
      "1/1 [==============================] - 0s 101ms/step\n",
      "Unknown person is approaching you 0.15950814\n",
      "chair 0.4212683\n",
      "refrigerator 0.40161917\n",
      "toilet 0.40955916\n",
      "book 0.4776411\n",
      "suitcase 0.4174502\n",
      "laptop 0.6998432\n",
      "bed 0.5363256\n",
      "bed 0.48925948\n",
      "teddy bear 0.6389456\n",
      "person 0.5616515\n",
      "Found 1 images belonging to 1 classes.\n",
      "1/1 [==============================] - 0s 172ms/step\n",
      "1/1 [==============================] - 0s 98ms/step\n",
      "Unknownis approaching you 0.29635754\n",
      "person 0.6253755\n",
      "Found 1 images belonging to 1 classes.\n",
      "1/1 [==============================] - 0s 166ms/step\n",
      "1/1 [==============================] - 0s 97ms/step\n",
      "Unknown person is approaching you 0.16988795\n",
      "teddy bear 0.47657618\n",
      "person 0.5703938\n",
      "Found 1 images belonging to 1 classes.\n",
      "1/1 [==============================] - 0s 170ms/step\n",
      "1/1 [==============================] - 0s 101ms/step\n",
      "Unknown person is approaching you 0.13310932\n",
      "bottle 0.49676427\n",
      "bottle 0.47664252\n",
      "bottle 0.44385117\n",
      "person 0.40660155\n",
      "Found 1 images belonging to 1 classes.\n",
      "1/1 [==============================] - 0s 170ms/step\n",
      "1/1 [==============================] - 0s 97ms/step\n",
      "Unknownis approaching you 0.22192399\n",
      "person 0.8080738\n",
      "Found 1 images belonging to 1 classes.\n",
      "1/1 [==============================] - 0s 165ms/step\n",
      "1/1 [==============================] - 0s 98ms/step\n",
      "Unknownis approaching you 0.35258934\n",
      "backpack 0.62458384\n"
     ]
    },
    {
     "name": "stderr",
     "output_type": "stream",
     "text": [
      "Exception ignored in: <function BSTR.__del__ at 0x000002075FA62670>\n",
      "Traceback (most recent call last):\n",
      "  File \"C:\\Users\\aashi\\anaconda3\\lib\\site-packages\\comtypes\\__init__.py\", line 999, in __del__\n",
      "    def __del__(self, _free=windll.oleaut32.SysFreeString):\n",
      "KeyboardInterrupt: \n"
     ]
    },
    {
     "name": "stdout",
     "output_type": "stream",
     "text": [
      "bottle 0.4405703\n",
      "person 0.8633766\n",
      "Found 1 images belonging to 1 classes.\n",
      "1/1 [==============================] - 0s 185ms/step\n",
      "1/1 [==============================] - 0s 115ms/step\n",
      "Julianne_Mooreis approaching you 0.25736636\n",
      "bottle 0.6590521\n"
     ]
    },
    {
     "name": "stderr",
     "output_type": "stream",
     "text": [
      "Exception ignored in: <function BSTR.__del__ at 0x000002075FA62670>\n",
      "Traceback (most recent call last):\n",
      "  File \"C:\\Users\\aashi\\anaconda3\\lib\\site-packages\\comtypes\\__init__.py\", line 999, in __del__\n",
      "    def __del__(self, _free=windll.oleaut32.SysFreeString):\n",
      "KeyboardInterrupt: \n"
     ]
    },
    {
     "name": "stdout",
     "output_type": "stream",
     "text": [
      "bottle 0.5828274\n",
      "bottle 0.5630669\n",
      "person 0.8870415\n",
      "Found 1 images belonging to 1 classes.\n",
      "1/1 [==============================] - 0s 177ms/step\n",
      "1/1 [==============================] - 0s 96ms/step\n",
      "Unknown person is approaching you 0.16685903\n",
      "bottle 0.6938891\n",
      "bottle 0.6679566\n",
      "bottle 0.53637594\n",
      "person 0.8576856\n",
      "Found 1 images belonging to 1 classes.\n",
      "1/1 [==============================] - 0s 182ms/step\n",
      "1/1 [==============================] - 0s 102ms/step\n",
      "Unknown person is approaching you 0.15487543\n",
      "bottle 0.70698875\n"
     ]
    }
   ],
   "source": [
    "import cv2\n",
    "import pyttsx3\n",
    "import numpy as np\n",
    "import shutil\n",
    "import matplotlib.pyplot as plt\n",
    "\n",
    "classes1=list(df['Class'].unique())\n",
    "path=r\"D:\\SEM 8\\Miniproject\\CODE\\Live video\\Video\"\n",
    "test_datagen = ImageDataGenerator(rescale = 1./255)\n",
    "\n",
    "\n",
    "# These functions return a model objects that we can use later on for predictions.\n",
    "net = cv2.dnn.readNet(r\"D:\\SEM 8\\Miniproject\\CODE\\yolov5s.onnx\")\n",
    "engine = pyttsx3.init()\n",
    "# The Coco file has the names where the yolo algorithm can detect which means it contains the 80 object names.\n",
    "# The file contains the labels of the classes which are pre trained models can classify.\n",
    "classes = []\n",
    "with open(r\"D:\\SEM 8\\Miniproject\\CODE\\coco.txt\", \"r\") as f:\n",
    "    classes = f.read().splitlines()\n",
    "\n",
    "\n",
    "# The input can be in three forms which is image, video,webcam.\n",
    "# The videos and webcam are series of image files that we are fitting to yolo model.\n",
    "cap = cv2.VideoCapture(0)\n",
    "font = cv2.FONT_HERSHEY_PLAIN\n",
    "colors = np.random.uniform(0, 255, size=(100, 3))\n",
    "\n",
    "while True:\n",
    "    pred_cls=[]\n",
    "    result, image = cap.read()\n",
    "    input_image = format_yolov5(image) # making the image square\n",
    "    blob = cv2.dnn.blobFromImage(input_image , 1/255.0, (640, 640), swapRB=True)\n",
    "    net.setInput(blob)\n",
    "    predictions = net.forward()\n",
    "    # step 3 - unwrap the predictions to get the object detections \n",
    "\n",
    "    class_ids = []\n",
    "    confidences = []\n",
    "    boxes = []\n",
    "\n",
    "    output_data = predictions[0]\n",
    "    image_width, image_height, _ = image.shape\n",
    "    x_factor = image_width / 640\n",
    "    y_factor =  image_height / 640\n",
    "    \n",
    "    for r in range(25200):\n",
    "        row = output_data[r]\n",
    "        confidence = row[4]\n",
    "        if confidence >= 0.4:\n",
    "            classes_scores = row[5:]\n",
    "            _, _, _, max_indx = cv2.minMaxLoc(classes_scores)\n",
    "            class_id = max_indx[1]\n",
    "            if (classes_scores[class_id] > .25):\n",
    "                confidences.append(confidence)\n",
    "                class_ids.append(class_id)\n",
    "                x, y, w, h = row[0].item(), row[1].item(), row[2].item(), row[3].item() \n",
    "                left = int((x - 0.5 * w) * x_factor)\n",
    "                top = int((y - 0.5 * h) * y_factor)\n",
    "                width = int(w * x_factor)\n",
    "                height = int(h * y_factor)\n",
    "                box = np.array([left, top, width, height])\n",
    "                boxes.append(box)\n",
    "    indexes = cv2.dnn.NMSBoxes(boxes, confidences, 0.3, 0.4) \n",
    "\n",
    "    result_class_ids = []\n",
    "    result_confidences = []\n",
    "    result_boxes = []\n",
    "    \n",
    "    for i in indexes:\n",
    "        result_confidences.append(confidences[i])\n",
    "        result_class_ids.append(class_ids[i])\n",
    "        result_boxes.append(boxes[i])\n",
    "        \n",
    "    for i in range(len(result_class_ids)):\n",
    "        box = result_boxes[i]\n",
    "        class_id = result_class_ids[i]\n",
    "        label =(classes[class_id])\n",
    "        print(label,result_confidences[i])\n",
    "        if label!='person':\n",
    "            text=label+\"is infront of you\"\n",
    "            engine.say(text)\n",
    "            engine.runAndWait()\n",
    "        elif label=='person': \n",
    "            for f in os.listdir(path):\n",
    "                os.remove(os.path.join(path, f))\n",
    "            result, image = cap.read()\n",
    "            input_image = format_yolov5(image)\n",
    "            rn=np.random.randint(0,1000)\n",
    "            plt.imshow(image,cmap='gray')\n",
    "            plt.axis('off')\n",
    "            w=str(rn)+\".jpg\"\n",
    "            new_path=path+\"\\\\\"+w\n",
    "            plt.savefig(w,bbox_inches='tight')\n",
    "            shutil.move(w,new_path)\n",
    "            test = test_datagen.flow_from_directory(r\"D:\\SEM 8\\Miniproject\\CODE\\Live video\", target_size = (224,224), batch_size = 64, color_mode = 'rgb', class_mode = 'categorical',shuffle=False)\n",
    "            p1=model1.predict(test)\n",
    "            p2=model3.predict(test)\n",
    "            for i in range(len(p1)):\n",
    "                ind=np.argmax(p1[i])\n",
    "                ind1=np.argmax(p2[i])\n",
    "                a=p1[i][ind]\n",
    "                b=p2[i][ind1]\n",
    "                if a>b:\n",
    "                    pred_cls.append([classes1[ind],a])\n",
    "                    if a<0.20:\n",
    "                        print('Unknown person is approaching you',a)\n",
    "                        engine.say('Unknown person is approaching you')\n",
    "                    else:\n",
    "                        if classes1[ind]=='Unknown':\n",
    "                            print(classes1[ind]+'person is approaching you',a)\n",
    "                            engine.say(classes1[ind]+'person is approaching you')\n",
    "                        else:\n",
    "                            print(classes1[ind]+'is approaching you',a)\n",
    "                            engine.say(classes1[ind]+'is approaching you')\n",
    "\n",
    "                else:\n",
    "                    pred_cls.append([classes1[ind1],b])\n",
    "                    if b<0.20:\n",
    "                        print('Unknown person is approaching you',b)\n",
    "                        engine.say('Unknown person is approaching you')\n",
    "\n",
    "                    else:\n",
    "                        if classes1[ind]=='Unknown':\n",
    "                            print(classes1[ind]+'person is approaching you',a)\n",
    "                            engine.say(classes1[ind]+'person is approaching you')\n",
    "                        else:\n",
    "                            print(classes1[ind1]+'is approaching you',b) \n",
    "                            engine.say(classes1[ind]+'is approaching you')\n",
    "\n",
    "        \n",
    "        color = colors[i]\n",
    "        cv2.rectangle(image, box, color, 2)\n",
    "        cv2.rectangle(image, (box[0], box[1] - 20), (box[0] + box[2], box[1]), (0, 255, 255), -1)\n",
    "        cv2.putText(image, classes[class_id], (box[0], box[1] - 10), cv2.FONT_HERSHEY_SIMPLEX, .5, (0,0,0))\n",
    "        cv2.putText(image, str(result_confidences[i]), (box[0]+60, box[1]), cv2.FONT_HERSHEY_SIMPLEX, .6, (0,0,0))\n",
    "       \n",
    "    cv2.imshow('Image', image)\n",
    "    key = cv2.waitKey(1) # wait for 1 sec to go the next image of the video\n",
    "    if key==1:\n",
    "        break\n",
    "        \n",
    "cap.release()\n",
    "cv2.destroyAllWindows()"
   ]
  },
  {
   "cell_type": "markdown",
   "id": "422bc14c",
   "metadata": {},
   "source": [
    "## OVERALL ACCURACY"
   ]
  },
  {
   "cell_type": "code",
   "execution_count": 25,
   "id": "3eaaa3ca",
   "metadata": {},
   "outputs": [
    {
     "data": {
      "text/html": [
       "<div>\n",
       "<style scoped>\n",
       "    .dataframe tbody tr th:only-of-type {\n",
       "        vertical-align: middle;\n",
       "    }\n",
       "\n",
       "    .dataframe tbody tr th {\n",
       "        vertical-align: top;\n",
       "    }\n",
       "\n",
       "    .dataframe thead th {\n",
       "        text-align: right;\n",
       "    }\n",
       "</style>\n",
       "<table border=\"1\" class=\"dataframe\">\n",
       "  <thead>\n",
       "    <tr style=\"text-align: right;\">\n",
       "      <th></th>\n",
       "      <th>Models</th>\n",
       "      <th>Accuracy</th>\n",
       "      <th>Loss</th>\n",
       "    </tr>\n",
       "  </thead>\n",
       "  <tbody>\n",
       "    <tr>\n",
       "      <th>0</th>\n",
       "      <td>ResNet152v2</td>\n",
       "      <td>0.84978</td>\n",
       "      <td>0.701788</td>\n",
       "    </tr>\n",
       "    <tr>\n",
       "      <th>1</th>\n",
       "      <td>VGG-19</td>\n",
       "      <td>0.54813</td>\n",
       "      <td>1.567950</td>\n",
       "    </tr>\n",
       "    <tr>\n",
       "      <th>2</th>\n",
       "      <td>DenseNet169</td>\n",
       "      <td>0.88945</td>\n",
       "      <td>0.496990</td>\n",
       "    </tr>\n",
       "  </tbody>\n",
       "</table>\n",
       "</div>"
      ],
      "text/plain": [
       "        Models  Accuracy      Loss\n",
       "0  ResNet152v2   0.84978  0.701788\n",
       "1       VGG-19   0.54813  1.567950\n",
       "2  DenseNet169   0.88945  0.496990"
      ]
     },
     "execution_count": 25,
     "metadata": {},
     "output_type": "execute_result"
    }
   ],
   "source": [
    "df=pd.DataFrame({'Models':['ResNet152v2','VGG-19','DenseNet169'],'Accuracy':[0.84978,0.54813,0.88945],'Loss':[0.701788,1.56795,0.49699]})\n",
    "df"
   ]
  },
  {
   "cell_type": "code",
   "execution_count": 26,
   "id": "0ed0eb27",
   "metadata": {},
   "outputs": [
    {
     "data": {
      "image/png": "[encoded data removed]",
      "text/plain": [
       "<Figure size 432x288 with 1 Axes>"
      ]
     },
     "metadata": {
      "needs_background": "light"
     },
     "output_type": "display_data"
    }
   ],
   "source": [
    "import matplotlib.pyplot as plt\n",
    "\n",
    "# Sample data\n",
    "x = ['ResNet152v2', 'VGG-19', 'DenseNet169']\n",
    "y = [0.8497,0.5488,0.8894]\n",
    "\n",
    "colors = ['violet', 'seagreen', 'pink']\n",
    "# Create a bar plot\n",
    "plt.bar(x, y,color=colors)\n",
    "\n",
    "# Add labels and title\n",
    "plt.xlabel('MODELS')\n",
    "plt.ylabel('ACCURACY')\n",
    "plt.title('DL MODELS AND THEIR ACCURACIES')\n",
    "\n",
    "# Display the plot\n",
    "plt.show()"
   ]
  }
 ],
 "metadata": {
  "kernelspec": {
   "display_name": "Python 3 (ipykernel)",
   "language": "python",
   "name": "python3"
  },
  "language_info": {
   "codemirror_mode": {
    "name": "ipython",
    "version": 3
   },
   "file_extension": ".py",
   "mimetype": "text/x-python",
   "name": "python",
   "nbconvert_exporter": "python",
   "pygments_lexer": "ipython3",
   "version": "3.9.7"
  }
 },
 "nbformat": 4,
 "nbformat_minor": 5
}
